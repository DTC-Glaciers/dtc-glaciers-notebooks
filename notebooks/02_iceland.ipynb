{
 "cells": [
  {
   "cell_type": "markdown",
   "id": "0",
   "metadata": {},
   "source": [
    "<div>\n",
    "<img src=\"https://notebooks.dtcglaciers.org/_images/ESA_logo.svg\" width=\"160\" align='right'/>\n",
    "</div>\n",
    "\n",
    "# CryoSat2 - model comparison at Vatnajökull ice cap, Iceland"
   ]
  },
  {
   "cell_type": "markdown",
   "id": "1",
   "metadata": {},
   "source": [
    "This notebook is a very early illustration of the scientific challenges to be tackled with the [DTC-Glaciers](https://dtcglaciers.org) project. We compare the output from the Open Global Glacier Model (OGGM) v1.6.1 against EO And in-situ observations at Vatnajökull ice cap, Iceland."
   ]
  },
  {
   "cell_type": "code",
   "execution_count": null,
   "id": "2",
   "metadata": {},
   "outputs": [],
   "source": [
    "from oggm import utils, workflow, tasks, DEFAULT_BASE_URL, cfg\n",
    "import yaml\n",
    "import geopandas as gpd\n",
    "import pandas as pd\n",
    "import numpy as np\n",
    "import matplotlib.pyplot as plt\n",
    "import seaborn as sns\n",
    "import matplotlib.dates as mdates\n",
    "\n",
    "sns.set_style(\"whitegrid\")\n",
    "sns.set_context(\"notebook\")"
   ]
  },
  {
   "cell_type": "code",
   "execution_count": null,
   "id": "3",
   "metadata": {},
   "outputs": [],
   "source": [
    "# Where to find the test files on EODS\n",
    "dtcf_url = 'https://cluster.klima.uni-bremen.de/~dtcg/test_files/case_study_regions/iceland/'"
   ]
  },
  {
   "cell_type": "code",
   "execution_count": null,
   "id": "4",
   "metadata": {},
   "outputs": [],
   "source": [
    "# OGGM parameters\n",
    "cfg.initialize(logging_level='ERROR')\n",
    "cfg.PARAMS['use_multiprocessing'] = True\n",
    "cfg.PARAMS['continue_on_error'] = True\n",
    "cfg.PATHS['working_dir'] = utils.get_temp_dir('working_dir')"
   ]
  },
  {
   "cell_type": "markdown",
   "id": "5",
   "metadata": {},
   "source": [
    "## Load Vatnajökull RGI6 outlines"
   ]
  },
  {
   "cell_type": "code",
   "execution_count": null,
   "id": "6",
   "metadata": {},
   "outputs": [],
   "source": [
    "# RGI6 ids\n",
    "with open(utils.file_downloader(dtcf_url + 'vatnajokull_rgi_ids.yml'), 'r') as yaml_file:\n",
    "    rgi_ids = yaml.safe_load(yaml_file)['rgi_ids']\n",
    "\n",
    "# Select the outlines from RGI6 file and convert to UTM\n",
    "rgi_file = gpd.read_file(utils.get_rgi_region_file('06'))\n",
    "rgi_file = rgi_file.loc[rgi_file.RGIId.isin(rgi_ids)].set_index('RGIId')\n",
    "rgi_file = rgi_file.to_crs('EPSG:32628')"
   ]
  },
  {
   "cell_type": "code",
   "execution_count": null,
   "id": "7",
   "metadata": {},
   "outputs": [],
   "source": [
    "rgi_file.plot(ec='k');"
   ]
  },
  {
   "cell_type": "markdown",
   "id": "8",
   "metadata": {},
   "source": [
    "## Fetch the standard global OGGM runs"
   ]
  },
  {
   "cell_type": "code",
   "execution_count": null,
   "id": "9",
   "metadata": {},
   "outputs": [],
   "source": [
    "gdirs = workflow.init_glacier_directories(\n",
    "    rgi_ids,  # which glaciers?\n",
    "    prepro_base_url=DEFAULT_BASE_URL,  # where to fetch the data?\n",
    "    from_prepro_level=4,  # what kind of data?\n",
    "    prepro_border=80  # how big of a map?\n",
    ")"
   ]
  },
  {
   "cell_type": "markdown",
   "id": "10",
   "metadata": {},
   "source": [
    "## Re-run OGGM at monthly timestep and load data"
   ]
  },
  {
   "cell_type": "code",
   "execution_count": null,
   "id": "11",
   "metadata": {},
   "outputs": [],
   "source": [
    "workflow.execute_entity_task(tasks.run_from_climate_data, gdirs,\n",
    "                             init_model_filesuffix='_spinup_historical',\n",
    "                             init_model_yr=1979,\n",
    "                             store_monthly_step=True,\n",
    "                             ys=1979, ye=2020,\n",
    "                             mb_elev_feedback='monthly',\n",
    "                             output_filesuffix='_spinup_historical_monthly')\n",
    "\n",
    "ds_monthly =  utils.compile_run_output(gdirs, input_filesuffix='_spinup_historical_monthly')"
   ]
  },
  {
   "cell_type": "markdown",
   "id": "12",
   "metadata": {},
   "source": [
    "## Modelled mass change and comparison to calibration data "
   ]
  },
  {
   "cell_type": "markdown",
   "id": "13",
   "metadata": {},
   "source": [
    "### OGGM"
   ]
  },
  {
   "cell_type": "code",
   "execution_count": null,
   "id": "14",
   "metadata": {},
   "outputs": [],
   "source": [
    "years, months = utils.floatyear_to_date(ds_monthly.time)\n",
    "df = pd.DataFrame(index=pd.to_datetime({'year': years, 'month': months, 'day': 1}))\n",
    "df['OGGM_volume_m3'] = ds_monthly.sum(dim='rgi_id').volume.data"
   ]
  },
  {
   "cell_type": "code",
   "execution_count": null,
   "id": "15",
   "metadata": {},
   "outputs": [],
   "source": [
    "df['OGGM_mwe'] = (df['OGGM_volume_m3'] - df['OGGM_volume_m3'].loc['2000-01'].values) / (rgi_file.Area.sum() * 1e6) * 900 / 1000"
   ]
  },
  {
   "cell_type": "code",
   "execution_count": null,
   "id": "16",
   "metadata": {},
   "outputs": [],
   "source": [
    "f, ax = plt.subplots(figsize=(12, 7))\n",
    "df['OGGM_mwe'].plot(ax=ax, label='OGGM v1.6.1');\n",
    "ax.axhline(0, linestyle=\"--\", color=\"black\", linewidth=1)\n",
    "plt.ylabel('m w.e.'); plt.title('Vatnajökull cumulative mass change 1979-2020 from OGGM');\n",
    "plt.legend();"
   ]
  },
  {
   "cell_type": "markdown",
   "id": "17",
   "metadata": {},
   "source": [
    "### Hugonnet observations"
   ]
  },
  {
   "cell_type": "code",
   "execution_count": null,
   "id": "18",
   "metadata": {},
   "outputs": [],
   "source": [
    "ref_mb_df = utils.get_geodetic_mb_dataframe().loc[rgi_ids]\n",
    "ref_mb_df = ref_mb_df.loc[ref_mb_df.period == '2000-01-01_2020-01-01']\n",
    "hugonnet_20yrs = (ref_mb_df['area'] * ref_mb_df['dmdtda']).sum() / ref_mb_df['area'].sum() * 20\n",
    "hugonnet_20yrs_err = (ref_mb_df['area'] * ref_mb_df['err_dmdtda']).sum() / ref_mb_df['area'].sum() * 20"
   ]
  },
  {
   "cell_type": "code",
   "execution_count": null,
   "id": "19",
   "metadata": {},
   "outputs": [],
   "source": [
    "# Compute Hugonnet's mass balance estimates for the plot\n",
    "p0 = df['OGGM_mwe'].loc['2000-01'].iloc[0]\n",
    "p1 = hugonnet_20yrs + p0\n",
    "\n",
    "f, ax = plt.subplots(figsize=(12, 7))\n",
    "ptimes = df.loc[['2000-01', '2020-01']].index\n",
    "ax.errorbar(x=ptimes, y=[p0, p1], yerr=[0, hugonnet_20yrs_err], fmt='o',\n",
    "             color='C3', label='Hugonnet et al. (2021)')\n",
    "df['OGGM_mwe'].loc['1995':].plot(ax=ax, label='OGGM v1.6.1');\n",
    "ax.axhline(0, linestyle=\"--\", color=\"black\", linewidth=1)\n",
    "plt.ylabel('m w.e.'); plt.title('Vatnajökull cumulative mass change as calibrated');\n",
    "plt.legend();"
   ]
  },
  {
   "cell_type": "markdown",
   "id": "20",
   "metadata": {},
   "source": [
    "## Elevation change comparison"
   ]
  },
  {
   "cell_type": "markdown",
   "id": "21",
   "metadata": {},
   "source": [
    "### Load Cryosat-2 data"
   ]
  },
  {
   "cell_type": "code",
   "execution_count": null,
   "id": "22",
   "metadata": {},
   "outputs": [],
   "source": [
    "obs_file = utils.file_downloader(dtcf_url + 'averaged_grid.csv')\n",
    "df_obs_elev = pd.read_csv(obs_file, index_col=1, parse_dates=True)\n",
    "df_obs_elev = df_obs_elev['changes_t0']  # only keep average which is used for comparision"
   ]
  },
  {
   "cell_type": "markdown",
   "id": "23",
   "metadata": {},
   "source": [
    "### Hugonnet et al"
   ]
  },
  {
   "cell_type": "code",
   "execution_count": null,
   "id": "24",
   "metadata": {},
   "outputs": [],
   "source": [
    "ref_mb_df = utils.get_geodetic_mb_dataframe().loc[rgi_ids]\n",
    "ref_mb_df = ref_mb_df.loc[ref_mb_df.period == '2010-01-01_2020-01-01']\n",
    "# Hugonnet uses 850\n",
    "hugonnet_10yrs = (ref_mb_df['area'] * ref_mb_df['dmdtda']).sum() / ref_mb_df['area'].sum() * 10 * 1000 / 850\n",
    "hugonnet_10yrs_err = (ref_mb_df['area'] * ref_mb_df['err_dmdtda']).sum() / ref_mb_df['area'].sum() * 10 * 1000 / 850"
   ]
  },
  {
   "cell_type": "markdown",
   "id": "25",
   "metadata": {},
   "source": [
    "### WGMS"
   ]
  },
  {
   "cell_type": "code",
   "execution_count": null,
   "id": "26",
   "metadata": {},
   "outputs": [],
   "source": [
    "dfw = pd.read_csv(utils.file_downloader(dtcf_url + 'vatna_berthier.csv'), index_col=0)\n",
    "\n",
    "dfwts = pd.DataFrame()\n",
    "\n",
    "for y, d in dfw.iterrows():\n",
    "    dfwts.loc[pd.Timestamp(year=y, month=4, day=1), 'MB'] = d.bw\n",
    "    dfwts.loc[pd.Timestamp(year=y, month=10, day=1), 'MB'] = d.bs\n",
    "    pass\n",
    "\n",
    "dfwts['MB_m'] = dfwts['MB'] * 1000 / 850\n",
    "dfwts['MB_m_cum'] = dfwts['MB_m'].cumsum()"
   ]
  },
  {
   "cell_type": "markdown",
   "id": "27",
   "metadata": {},
   "source": [
    "### Compute modelled elevation change"
   ]
  },
  {
   "cell_type": "code",
   "execution_count": null,
   "id": "28",
   "metadata": {},
   "outputs": [],
   "source": [
    "# it is a bit unclear which basline was used by the observations\n",
    "# from the meta_data: \"average of the first 5 months (all data pre-2011)\"\n",
    "# baseline_volume = np.mean(volume_total.sel(time=slice(2011, 2011.5)))\n",
    "# Her we just pick the first one in the obs timeseries\n",
    "baseline_volume = df['OGGM_volume_m3'].loc['2010-09'].values\n",
    "\n",
    "# divide by RGI area, which is the same area as used by the creation of the observation\n",
    "rgi_area = np.sum([gdir.rgi_area_m2 for gdir in gdirs])\n",
    "\n",
    "# finally the calculation of the modelled elevation change\n",
    "# This assumes a density of 900 kg m2\n",
    "df['OGGM_elev'] = (df['OGGM_volume_m3'] - baseline_volume) / rgi_area"
   ]
  },
  {
   "cell_type": "markdown",
   "id": "29",
   "metadata": {},
   "source": [
    "### Plot elevation change observed vs. modelled"
   ]
  },
  {
   "cell_type": "code",
   "execution_count": null,
   "id": "30",
   "metadata": {},
   "outputs": [],
   "source": [
    "# Compute Hugonnet's mass balance estimates for the plot\n",
    "p0 = df['OGGM_elev'].loc['2010-01'].iloc[0]\n",
    "p1 = hugonnet_10yrs + p0\n",
    "\n",
    "f, ax = plt.subplots(figsize=(12, 7))\n",
    "ptimes = df.loc[['2010-01', '2020-01']].index\n",
    "ax.errorbar(x=ptimes, y=[p0, p1], yerr=[0, hugonnet_20yrs_err], fmt='o',\n",
    "             color='C3', label='Hugonnet et al. (2021)')\n",
    "df['OGGM_elev'].loc['2010':].plot(ax=ax, label='OGGM v1.6.1');\n",
    "df_obs_elev.plot(ax=ax, label='CryoSat-2')\n",
    "\n",
    "wgts = (dfwts['MB_m_cum'] - dfwts['MB_m_cum'].loc['2010-10-01'] - 1).loc['2010-10-01':]\n",
    "wgts.plot(ax=ax, linestyle='--', color='grey',  linewidth=0.5, alpha=0.3,\n",
    "    marker='v', markersize=6, markerfacecolor='grey', markeredgecolor='k',\n",
    "         label='In-situ obs');\n",
    "ax.axhline(0, linestyle=\"--\", color=\"black\", linewidth=1)\n",
    "\n",
    "# Set x-axis ticks to show every year\n",
    "ax.xaxis.set_major_locator(mdates.YearLocator())  # One tick per year\n",
    "ax.xaxis.set_major_formatter(mdates.DateFormatter('%Y'))  # Format as \"YYYY\"\n",
    "\n",
    "plt.xlabel(''); plt.ylabel('m elevation'); plt.title('Vatnajökull cumulative elevation change');\n",
    "plt.legend();"
   ]
  },
  {
   "cell_type": "markdown",
   "id": "31",
   "metadata": {},
   "source": [
    "## WGMS comparison"
   ]
  },
  {
   "cell_type": "markdown",
   "id": "32",
   "metadata": {},
   "source": [
    "### Load WGMS data"
   ]
  },
  {
   "cell_type": "code",
   "execution_count": null,
   "id": "33",
   "metadata": {},
   "outputs": [],
   "source": [
    "fp_wgms = utils.file_downloader(dtcf_url + 'WGMS_MB-DTC-Glaciers.csv')\n",
    "wgms_data = pd.read_csv(fp_wgms)"
   ]
  },
  {
   "cell_type": "markdown",
   "id": "34",
   "metadata": {},
   "source": [
    "Helper functions to access WGMS data"
   ]
  },
  {
   "cell_type": "code",
   "execution_count": null,
   "id": "35",
   "metadata": {},
   "outputs": [],
   "source": [
    "# conversions between wgms ids and rgi ids\n",
    "fp_wgms_ids_conversion = utils.file_downloader(dtcf_url + 'glacier_id_lut.csv')\n",
    "df_wgms_ids = pd.read_csv(fp_wgms_ids_conversion)\n",
    "\n",
    "def get_wgms_from_rgi(rgi_id):\n",
    "    if rgi_id in df_wgms_ids['RGI60_ID'].values:\n",
    "        return df_wgms_ids[df_wgms_ids['RGI60_ID'] == rgi_id]['WGMS_ID'].item()\n",
    "    else:\n",
    "        return None\n",
    "\n",
    "def get_rgi_from_wgms(wgms_id):\n",
    "    if wgms_id in df_wgms_ids['WGMS_ID'].values:\n",
    "        return df_wgms_ids[df_wgms_ids['WGMS_ID'] == wgms_id]['RGI60_ID'].item()\n",
    "    else:\n",
    "        return None"
   ]
  },
  {
   "cell_type": "code",
   "execution_count": null,
   "id": "36",
   "metadata": {},
   "outputs": [],
   "source": [
    "def get_wgms_mb_observation(rgi_id):\n",
    "    '''\n",
    "    Returns (mb_DataFrame, Glacier name)\n",
    "    '''\n",
    "    wgms_id = get_wgms_from_rgi(rgi_id)\n",
    "\n",
    "    # only not None if this glacier is a WGMS glacier\n",
    "    if wgms_id:\n",
    "        # check if we have some data\n",
    "        if wgms_id in wgms_data['glacier_id'].values:\n",
    "            wgms_glacier_data = wgms_data[wgms_data['glacier_id'] == wgms_id]\n",
    "            df_wgms_glacier_data = pd.DataFrame(\n",
    "                {'annual_balance': wgms_glacier_data['annual_balance'].values},\n",
    "                index=wgms_glacier_data['year'].values,\n",
    "            )\n",
    "            return df_wgms_glacier_data, wgms_glacier_data['glacier_id.short_name'].values[0]"
   ]
  },
  {
   "cell_type": "markdown",
   "id": "37",
   "metadata": {},
   "source": [
    "### Compute hydro year averages"
   ]
  },
  {
   "cell_type": "code",
   "execution_count": null,
   "id": "38",
   "metadata": {},
   "outputs": [],
   "source": [
    "# Here we need some code to work in hydro ye\n",
    "df_annual = pd.DataFrame()\n",
    "for y in range(1980, 2019):\n",
    "    d0 = f'{y-1}-10-01'\n",
    "    d1 = f'{y}-10-01'\n",
    "    df_annual.loc[y, 'OGGM_mwe'] = df.loc[d1]['OGGM_mwe'] - df.loc[d0]['OGGM_mwe']"
   ]
  },
  {
   "cell_type": "markdown",
   "id": "39",
   "metadata": {},
   "source": [
    "### Plot WGMS and modelled mb for all available glaciers"
   ]
  },
  {
   "cell_type": "markdown",
   "id": "40",
   "metadata": {},
   "source": [
    "We commented the below because we have to sort out the data first - the above looks much better anyway."
   ]
  },
  {
   "cell_type": "code",
   "execution_count": null,
   "id": "41",
   "metadata": {},
   "outputs": [],
   "source": [
    "# for gdir in gdirs:\n",
    "#     wgms_mb = get_wgms_mb_observation(gdir.rgi_id)\n",
    "#     if wgms_mb is not None:\n",
    "#         fig, ax = plt.subplots(1, 1)\n",
    "#         # add modelled smb\n",
    "#         df_annual['OGGM_mwe'].plot(ax=ax, label='OGGM v1.6.1')\n",
    "#         # add observation\n",
    "#         wgms_mb[0]['annual_balance'].plot(ax=ax, marker='.',\n",
    "#                                           label='Observations (WGMS)')\n",
    "#         ax.set_title(f'{gdir.rgi_id}, {wgms_mb[1]}')\n",
    "#         ax.set_xlabel(''); ax.set_ylabel('m w.e.');\n",
    "#         ax.legend();\n",
    "#         ax.set_xlim(1998, 2024);\n",
    "#         plt.show()"
   ]
  },
  {
   "cell_type": "code",
   "execution_count": null,
   "id": "42",
   "metadata": {},
   "outputs": [],
   "source": []
  }
 ],
 "metadata": {
  "kernelspec": {
   "display_name": "Python 3 (ipykernel)",
   "language": "python",
   "name": "python3"
  },
  "language_info": {
   "codemirror_mode": {
    "name": "ipython",
    "version": 3
   },
   "file_extension": ".py",
   "mimetype": "text/x-python",
   "name": "python",
   "nbconvert_exporter": "python",
   "pygments_lexer": "ipython3",
   "version": "3.12.4"
  }
 },
 "nbformat": 4,
 "nbformat_minor": 5
}
