{
 "cells": [
  {
   "cell_type": "markdown",
   "metadata": {},
   "source": [
    "# Glacier runoff in the Alps"
   ]
  },
  {
   "cell_type": "markdown",
   "metadata": {},
   "source": [
    "If necessary, install the dtcg api with:\n",
    "\n",
    "```\n",
    "!pip install --upgrade git+https://github.com/DTC-Glaciers/dtcg\n",
    "```\n",
    "\n",
    "In a cell below."
   ]
  },
  {
   "cell_type": "code",
   "execution_count": null,
   "metadata": {},
   "outputs": [],
   "source": [
    "import dtcg\n",
    "import dtcg.interface.gateway\n",
    "import dtcg.interface.plotting"
   ]
  },
  {
   "cell_type": "markdown",
   "metadata": {},
   "source": [
    "A user interacts with DTCG only through API requests.\n",
    "This means a single centralised framework can handle requests from Jupyter notebooks, websites, and cli wrappers.\n",
    "Flows are simplified for non-technical users, and can be customised for more advanced use cases.\n",
    "It also prevents significant changes to the DTCG API interfering with existing flows, as little to no backend code is exposed to the user."
   ]
  },
  {
   "cell_type": "code",
   "execution_count": null,
   "metadata": {},
   "outputs": [],
   "source": [
    "# User selects these via dropdown menus\n",
    "subregion_name = \"vent_rofenache\"\n",
    "glacier_name = \"Hintereisferner\""
   ]
  },
  {
   "cell_type": "markdown",
   "metadata": {},
   "source": [
    "API queries are extensible, as long as they conform to the OpenAPI standard.\n",
    "For selecting a subregion, this is what an API query could look like:"
   ]
  },
  {
   "cell_type": "code",
   "execution_count": null,
   "metadata": {},
   "outputs": [],
   "source": [
    "# A query might look like this\n",
    "user_query_params = {\n",
    "    \"query\": \"select_subregion\",\n",
    "    \"region_name\": \"Central Europe\",\n",
    "    \"subregion_name\": subregion_name,\n",
    "    \"glacier_name\": glacier_name,\n",
    "    \"shapefile_path\": \"nested_catchments_oetztal/nested_catchments_oetztal.shx\",\n",
    "    \"oggm_params\": {\n",
    "        \"use_multiprocessing\": True,\n",
    "        \"rgi_version\": \"62\",\n",
    "        \"store_model_geometry\": True,\n",
    "    },\n",
    "}\n",
    "request = dtcg.interface.gateway._set_user_query(**user_query_params)\n",
    "response = dtcg.interface.gateway.get_query_response(query=request)"
   ]
  },
  {
   "cell_type": "markdown",
   "metadata": {},
   "source": [
    "The API is very flexible: it can pass OGGM parameters directly to OGGM, and to preserve bandwidth a response can be customised to contain as little data as needed.\n",
    "\n",
    "For this example, the response data are synthesised into static plots.\n",
    "In a dashboard setting, these plots are automatically updated for every user interaction."
   ]
  },
  {
   "cell_type": "code",
   "execution_count": null,
   "metadata": {},
   "outputs": [],
   "source": [
    "plot_data = dtcg.interface.plotting.plot_runoff_dashboard(\n",
    "    response=response[\"data\"][\"glacier_data\"],\n",
    "    basin_shapefile=response[\"data\"][\"shapefile\"],\n",
    "    annual_runoff=response[\"data\"][\"runoff_data\"][\"annual_runoff\"],\n",
    "    monthly_runoff=response[\"data\"][\"runoff_data\"][\"monthly_runoff\"],\n",
    "    min_runoff_year=response[\"data\"][\"runoff_data\"][\"runoff_year_min\"],\n",
    "    max_runoff_year=response[\"data\"][\"runoff_data\"][\"runoff_year_max\"],\n",
    "    subregion_name=request.subregion_name,\n",
    "    name=\"\",\n",
    ")"
   ]
  },
  {
   "cell_type": "markdown",
   "metadata": {},
   "source": [
    "A user can also select specific glaciers"
   ]
  },
  {
   "cell_type": "code",
   "execution_count": null,
   "metadata": {},
   "outputs": [],
   "source": [
    "# A query might look like this\n",
    "user_query_params = {\n",
    "    \"query\": \"select_glacier\",\n",
    "    \"region_name\": \"Central Europe\",\n",
    "    \"subregion_name\": subregion_name,\n",
    "    \"glacier_name\": glacier_name,\n",
    "    \"shapefile_path\": \"nested_catchments_oetztal/nested_catchments_oetztal.shx\",\n",
    "    \"oggm_params\": {\n",
    "        \"use_multiprocessing\": True,\n",
    "        \"rgi_version\": \"62\",\n",
    "        \"store_model_geometry\": True,\n",
    "    },\n",
    "}\n",
    "request = dtcg.interface.gateway._set_user_query(**user_query_params)\n",
    "response = dtcg.interface.gateway.get_query_response(query=request)"
   ]
  },
  {
   "cell_type": "code",
   "execution_count": null,
   "metadata": {},
   "outputs": [],
   "source": [
    "dtcg.interface.plotting.plot_mass_balance(\n",
    "    observations=response[\"data\"][\"runoff_data\"][\"wgms\"],\n",
    "    mass_balance=response[\"data\"][\"runoff_data\"][\"mass_balance\"],\n",
    "    name=request.glacier_name,\n",
    ");"
   ]
  },
  {
   "cell_type": "code",
   "execution_count": null,
   "metadata": {},
   "outputs": [],
   "source": []
  }
 ],
 "metadata": {
  "kernelspec": {
   "display_name": "Python 3 (ipykernel)",
   "language": "python",
   "name": "python3"
  },
  "language_info": {
   "codemirror_mode": {
    "name": "ipython",
    "version": 3
   },
   "file_extension": ".py",
   "mimetype": "text/x-python",
   "name": "python",
   "nbconvert_exporter": "python",
   "pygments_lexer": "ipython3",
   "version": "3.12.4"
  }
 },
 "nbformat": 4,
 "nbformat_minor": 4
}
